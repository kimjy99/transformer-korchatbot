{
  "nbformat": 4,
  "nbformat_minor": 0,
  "metadata": {
    "colab": {
      "name": "Transformer-korchatbot.ipynb",
      "provenance": [],
      "collapsed_sections": [],
      "toc_visible": true
    },
    "kernelspec": {
      "name": "python3",
      "display_name": "Python 3"
    },
    "language_info": {
      "name": "python"
    },
    "accelerator": "GPU"
  },
  "cells": [
    {
      "cell_type": "markdown",
      "source": [
        "# **Transformer**\n",
        "\n",
        "A Pytorch implementation of the basic transformer model.  \n",
        "  \n",
        "**Dataset:**  Korean chatbot dataset.  \n",
        "\n",
        "**Reference:**  \n",
        "https://wikidocs.net/31379  \n",
        "https://tunz.kr/post/4"
      ],
      "metadata": {
        "id": "f1W2M3_X8aKc"
      }
    },
    {
      "cell_type": "code",
      "source": [
        "import torch\n",
        "import torch.nn as nn\n",
        "from torch.utils.data import Dataset, DataLoader\n",
        "\n",
        "import matplotlib.pyplot as plt\n",
        "import pickle\n",
        "import numpy as np\n",
        "import re\n",
        "import random"
      ],
      "metadata": {
        "id": "cTBlU6-R9LX3"
      },
      "execution_count": null,
      "outputs": []
    },
    {
      "cell_type": "markdown",
      "source": [
        "## Hyper Parameters"
      ],
      "metadata": {
        "id": "NrSJIGgm8mqD"
      }
    },
    {
      "cell_type": "code",
      "source": [
        "d_model = 256\n",
        "num_layers = 2\n",
        "num_heads = 4\n",
        "d_ff = 512\n",
        "\n",
        "batch_size = 64\n",
        "epochs = 50\n",
        "warmup_step = 4000\n",
        "dropout = 0.1\n",
        "\n",
        "isCuda = True\n",
        "device = torch.device(\"cuda:0\" if (torch.cuda.is_available() and isCuda) else \"cpu\")\n",
        "torch.backends.cudnn.benchmark = True\n",
        "print(\"Device: {}\".format(device))\n",
        "\n",
        "model_saved_dir = \"/content/drive/MyDrive/Colab Notebooks/Transformer\""
      ],
      "metadata": {
        "id": "5QjgMWqG8qW0",
        "colab": {
          "base_uri": "https://localhost:8080/"
        },
        "outputId": "180cf80c-deda-4967-ec4a-3e9b5accc7e6"
      },
      "execution_count": null,
      "outputs": [
        {
          "output_type": "stream",
          "name": "stdout",
          "text": [
            "Device: cuda:0\n"
          ]
        }
      ]
    },
    {
      "cell_type": "markdown",
      "source": [
        "## Dataset (Korean Chatbot)"
      ],
      "metadata": {
        "id": "7xoCGZA1T-4y"
      }
    },
    {
      "cell_type": "code",
      "source": [
        "import urllib.request\n",
        "import pandas as pd\n",
        "\n",
        "urllib.request.urlretrieve(\"https://raw.githubusercontent.com/songys/Chatbot_data/master/ChatbotData.csv\", filename=\"ChatBotData.csv\")\n",
        "train_data = pd.read_csv('ChatBotData.csv')\n",
        "train_data.head()"
      ],
      "metadata": {
        "colab": {
          "base_uri": "https://localhost:8080/",
          "height": 204
        },
        "id": "AsNccW7mT-D8",
        "outputId": "a013b634-aa36-47cd-f617-9cad4eee927a"
      },
      "execution_count": null,
      "outputs": [
        {
          "output_type": "execute_result",
          "data": {
            "text/html": [
              "\n",
              "  <div id=\"df-32621fa2-627f-4a87-a83a-b0feffeed3a4\">\n",
              "    <div class=\"colab-df-container\">\n",
              "      <div>\n",
              "<style scoped>\n",
              "    .dataframe tbody tr th:only-of-type {\n",
              "        vertical-align: middle;\n",
              "    }\n",
              "\n",
              "    .dataframe tbody tr th {\n",
              "        vertical-align: top;\n",
              "    }\n",
              "\n",
              "    .dataframe thead th {\n",
              "        text-align: right;\n",
              "    }\n",
              "</style>\n",
              "<table border=\"1\" class=\"dataframe\">\n",
              "  <thead>\n",
              "    <tr style=\"text-align: right;\">\n",
              "      <th></th>\n",
              "      <th>Q</th>\n",
              "      <th>A</th>\n",
              "      <th>label</th>\n",
              "    </tr>\n",
              "  </thead>\n",
              "  <tbody>\n",
              "    <tr>\n",
              "      <th>0</th>\n",
              "      <td>12시 땡!</td>\n",
              "      <td>하루가 또 가네요.</td>\n",
              "      <td>0</td>\n",
              "    </tr>\n",
              "    <tr>\n",
              "      <th>1</th>\n",
              "      <td>1지망 학교 떨어졌어</td>\n",
              "      <td>위로해 드립니다.</td>\n",
              "      <td>0</td>\n",
              "    </tr>\n",
              "    <tr>\n",
              "      <th>2</th>\n",
              "      <td>3박4일 놀러가고 싶다</td>\n",
              "      <td>여행은 언제나 좋죠.</td>\n",
              "      <td>0</td>\n",
              "    </tr>\n",
              "    <tr>\n",
              "      <th>3</th>\n",
              "      <td>3박4일 정도 놀러가고 싶다</td>\n",
              "      <td>여행은 언제나 좋죠.</td>\n",
              "      <td>0</td>\n",
              "    </tr>\n",
              "    <tr>\n",
              "      <th>4</th>\n",
              "      <td>PPL 심하네</td>\n",
              "      <td>눈살이 찌푸려지죠.</td>\n",
              "      <td>0</td>\n",
              "    </tr>\n",
              "  </tbody>\n",
              "</table>\n",
              "</div>\n",
              "      <button class=\"colab-df-convert\" onclick=\"convertToInteractive('df-32621fa2-627f-4a87-a83a-b0feffeed3a4')\"\n",
              "              title=\"Convert this dataframe to an interactive table.\"\n",
              "              style=\"display:none;\">\n",
              "        \n",
              "  <svg xmlns=\"http://www.w3.org/2000/svg\" height=\"24px\"viewBox=\"0 0 24 24\"\n",
              "       width=\"24px\">\n",
              "    <path d=\"M0 0h24v24H0V0z\" fill=\"none\"/>\n",
              "    <path d=\"M18.56 5.44l.94 2.06.94-2.06 2.06-.94-2.06-.94-.94-2.06-.94 2.06-2.06.94zm-11 1L8.5 8.5l.94-2.06 2.06-.94-2.06-.94L8.5 2.5l-.94 2.06-2.06.94zm10 10l.94 2.06.94-2.06 2.06-.94-2.06-.94-.94-2.06-.94 2.06-2.06.94z\"/><path d=\"M17.41 7.96l-1.37-1.37c-.4-.4-.92-.59-1.43-.59-.52 0-1.04.2-1.43.59L10.3 9.45l-7.72 7.72c-.78.78-.78 2.05 0 2.83L4 21.41c.39.39.9.59 1.41.59.51 0 1.02-.2 1.41-.59l7.78-7.78 2.81-2.81c.8-.78.8-2.07 0-2.86zM5.41 20L4 18.59l7.72-7.72 1.47 1.35L5.41 20z\"/>\n",
              "  </svg>\n",
              "      </button>\n",
              "      \n",
              "  <style>\n",
              "    .colab-df-container {\n",
              "      display:flex;\n",
              "      flex-wrap:wrap;\n",
              "      gap: 12px;\n",
              "    }\n",
              "\n",
              "    .colab-df-convert {\n",
              "      background-color: #E8F0FE;\n",
              "      border: none;\n",
              "      border-radius: 50%;\n",
              "      cursor: pointer;\n",
              "      display: none;\n",
              "      fill: #1967D2;\n",
              "      height: 32px;\n",
              "      padding: 0 0 0 0;\n",
              "      width: 32px;\n",
              "    }\n",
              "\n",
              "    .colab-df-convert:hover {\n",
              "      background-color: #E2EBFA;\n",
              "      box-shadow: 0px 1px 2px rgba(60, 64, 67, 0.3), 0px 1px 3px 1px rgba(60, 64, 67, 0.15);\n",
              "      fill: #174EA6;\n",
              "    }\n",
              "\n",
              "    [theme=dark] .colab-df-convert {\n",
              "      background-color: #3B4455;\n",
              "      fill: #D2E3FC;\n",
              "    }\n",
              "\n",
              "    [theme=dark] .colab-df-convert:hover {\n",
              "      background-color: #434B5C;\n",
              "      box-shadow: 0px 1px 3px 1px rgba(0, 0, 0, 0.15);\n",
              "      filter: drop-shadow(0px 1px 2px rgba(0, 0, 0, 0.3));\n",
              "      fill: #FFFFFF;\n",
              "    }\n",
              "  </style>\n",
              "\n",
              "      <script>\n",
              "        const buttonEl =\n",
              "          document.querySelector('#df-32621fa2-627f-4a87-a83a-b0feffeed3a4 button.colab-df-convert');\n",
              "        buttonEl.style.display =\n",
              "          google.colab.kernel.accessAllowed ? 'block' : 'none';\n",
              "\n",
              "        async function convertToInteractive(key) {\n",
              "          const element = document.querySelector('#df-32621fa2-627f-4a87-a83a-b0feffeed3a4');\n",
              "          const dataTable =\n",
              "            await google.colab.kernel.invokeFunction('convertToInteractive',\n",
              "                                                     [key], {});\n",
              "          if (!dataTable) return;\n",
              "\n",
              "          const docLinkHtml = 'Like what you see? Visit the ' +\n",
              "            '<a target=\"_blank\" href=https://colab.research.google.com/notebooks/data_table.ipynb>data table notebook</a>'\n",
              "            + ' to learn more about interactive tables.';\n",
              "          element.innerHTML = '';\n",
              "          dataTable['output_type'] = 'display_data';\n",
              "          await google.colab.output.renderOutput(dataTable, element);\n",
              "          const docLink = document.createElement('div');\n",
              "          docLink.innerHTML = docLinkHtml;\n",
              "          element.appendChild(docLink);\n",
              "        }\n",
              "      </script>\n",
              "    </div>\n",
              "  </div>\n",
              "  "
            ],
            "text/plain": [
              "                 Q            A  label\n",
              "0           12시 땡!   하루가 또 가네요.      0\n",
              "1      1지망 학교 떨어졌어    위로해 드립니다.      0\n",
              "2     3박4일 놀러가고 싶다  여행은 언제나 좋죠.      0\n",
              "3  3박4일 정도 놀러가고 싶다  여행은 언제나 좋죠.      0\n",
              "4          PPL 심하네   눈살이 찌푸려지죠.      0"
            ]
          },
          "metadata": {},
          "execution_count": 3
        }
      ]
    },
    {
      "cell_type": "code",
      "source": [
        "print(len(train_data))"
      ],
      "metadata": {
        "colab": {
          "base_uri": "https://localhost:8080/"
        },
        "id": "rL3GS3wmUiM_",
        "outputId": "f08a8193-dd59-4cea-8c22-a97bad76116e"
      },
      "execution_count": null,
      "outputs": [
        {
          "output_type": "stream",
          "name": "stdout",
          "text": [
            "11823\n"
          ]
        }
      ]
    },
    {
      "cell_type": "markdown",
      "source": [
        "### Separate punctuation marks"
      ],
      "metadata": {
        "id": "r2u6lc2KVFCd"
      }
    },
    {
      "cell_type": "code",
      "source": [
        "questions = []\n",
        "answers = []\n",
        "\n",
        "for s in train_data['Q']:\n",
        "  s = re.sub(r\"([?.!,])\", r\" \\1 \", s)\n",
        "  questions.append(s.strip())\n",
        "\n",
        "for s in train_data['A']:\n",
        "  s = re.sub(r\"([?.!,])\", r\" \\1 \", s)\n",
        "  answers.append(s.strip())"
      ],
      "metadata": {
        "id": "GGcM7PaDUqiB"
      },
      "execution_count": null,
      "outputs": []
    },
    {
      "cell_type": "code",
      "source": [
        "print(questions[:5])\n",
        "print(answers[:5])"
      ],
      "metadata": {
        "colab": {
          "base_uri": "https://localhost:8080/"
        },
        "id": "tmtdkbRIXGqp",
        "outputId": "18e1bc84-7bbd-4e38-8e59-d51ff29b6ed3"
      },
      "execution_count": null,
      "outputs": [
        {
          "output_type": "stream",
          "name": "stdout",
          "text": [
            "['12시 땡 !', '1지망 학교 떨어졌어', '3박4일 놀러가고 싶다', '3박4일 정도 놀러가고 싶다', 'PPL 심하네']\n",
            "['하루가 또 가네요 .', '위로해 드립니다 .', '여행은 언제나 좋죠 .', '여행은 언제나 좋죠 .', '눈살이 찌푸려지죠 .']\n"
          ]
        }
      ]
    },
    {
      "cell_type": "markdown",
      "source": [
        "### Tokenizer"
      ],
      "metadata": {
        "id": "mJ2Ma923XRSD"
      }
    },
    {
      "cell_type": "code",
      "source": [
        "import tensorflow_datasets as tfds\n",
        "tokenizer = tfds.deprecated.text.SubwordTextEncoder.build_from_corpus(\n",
        "    questions + answers, target_vocab_size=2**13)\n",
        "\n",
        "START_TOKEN = [tokenizer.vocab_size]\n",
        "END_TOKEN = [tokenizer.vocab_size + 1]\n",
        "vocab_size = tokenizer.vocab_size + 2"
      ],
      "metadata": {
        "id": "zjbxa-NUXXb0"
      },
      "execution_count": null,
      "outputs": []
    },
    {
      "cell_type": "code",
      "source": [
        "print(vocab_size)"
      ],
      "metadata": {
        "colab": {
          "base_uri": "https://localhost:8080/"
        },
        "id": "j3r0fSJtf_wt",
        "outputId": "668c9431-2a6a-48c0-db3e-485f14e4c19b"
      },
      "execution_count": null,
      "outputs": [
        {
          "output_type": "stream",
          "name": "stdout",
          "text": [
            "8180\n"
          ]
        }
      ]
    },
    {
      "cell_type": "code",
      "source": [
        "sample = questions[40]\n",
        "print('Sample: %s' % sample)\n",
        "\n",
        "tokenized = tokenizer.encode(sample)\n",
        "print('Encode: %s\\n' % tokenized)\n",
        "\n",
        "for t in tokenized:\n",
        "  print('%d ---> %s' % (t, tokenizer.decode([t])))"
      ],
      "metadata": {
        "colab": {
          "base_uri": "https://localhost:8080/"
        },
        "id": "5QtDGgS0a2ZK",
        "outputId": "3fdfe62a-7921-47fd-8c2f-a3ee279fbb35"
      },
      "execution_count": null,
      "outputs": [
        {
          "output_type": "stream",
          "name": "stdout",
          "text": [
            "Sample: 간만에 떨리니까 좋더라\n",
            "Encode: [7875, 1717, 320, 4884]\n",
            "\n",
            "7875 ---> 간만에 \n",
            "1717 ---> 떨리\n",
            "320 ---> 니까 \n",
            "4884 ---> 좋더라\n"
          ]
        }
      ]
    },
    {
      "cell_type": "code",
      "source": [
        "import matplotlib.pyplot as plt\n",
        "\n",
        "qlen = [0]*40\n",
        "alen = [0]*40\n",
        "\n",
        "maxlen = 0\n",
        "maxstring = \"\"\n",
        "for q in questions:\n",
        "  t = len(tokenizer.encode(q))\n",
        "  qlen[t] = qlen[t] + 1\n",
        "  if maxlen < t:\n",
        "    maxlen = t\n",
        "    maxstring = q\n",
        "for a in answers:\n",
        "  t = len(tokenizer.encode(a))\n",
        "  alen[t] = alen[t] + 1\n",
        "  if maxlen < t:\n",
        "    maxlen = t\n",
        "    maxstring = a\n",
        "\n",
        "print('Maximum length of tokenized sentence: %d' % maxlen)\n",
        "print('>> %s' % maxstring)\n",
        "\n",
        "plt.plot(range(1,(maxlen+1)), qlen[1:(maxlen+1)], range(1,(maxlen+1)), alen[1:(maxlen+1)])\n",
        "plt.legend(['question', 'answer'])\n",
        "plt.xlabel('Length of tokenized sentence')\n",
        "plt.ylabel('Number of sentence')\n",
        "#plt.show()\n",
        "plt.savefig('dataset-plot.png')"
      ],
      "metadata": {
        "colab": {
          "base_uri": "https://localhost:8080/",
          "height": 315
        },
        "id": "IxefKksIcGq_",
        "outputId": "f8d51071-a5c1-494d-c761-a0d8b073d490"
      },
      "execution_count": null,
      "outputs": [
        {
          "output_type": "stream",
          "name": "stdout",
          "text": [
            "Maximum length of tokenized sentence: 29\n",
            ">> 연애는 문제가 있으면 문제를 해결 하기 위해 함께 노력하고 그 속에서 더욱 단단해지는 과정인데 ,  그 과정을 못 참고 피하기만 했나봅니다 .\n"
          ]
        },
        {
          "output_type": "display_data",
          "data": {
            "image/png": "[encoded data removed]",
            "text/plain": [
              "<Figure size 432x288 with 1 Axes>"
            ]
          },
          "metadata": {
            "needs_background": "light"
          }
        }
      ]
    },
    {
      "cell_type": "markdown",
      "source": [
        "### Custom Dataset"
      ],
      "metadata": {
        "id": "7_k_K4frE73D"
      }
    },
    {
      "cell_type": "code",
      "source": [
        "maxlen = 40\n",
        "\n",
        "class QADataset(Dataset):\n",
        "  def __init__(self, tokenizer, questions, answers):\n",
        "    self.data = []\n",
        "\n",
        "    for q, a in zip(questions, answers):\n",
        "      q = START_TOKEN + tokenizer.encode(q) + END_TOKEN\n",
        "      q = q + [0]*(maxlen-len(q))\n",
        "      a = tokenizer.encode(a) + END_TOKEN\n",
        "      a = a + [0]*(maxlen-2-len(a))\n",
        "      self.data.append((torch.LongTensor(q), \n",
        "                        torch.LongTensor(START_TOKEN + a), \n",
        "                        torch.LongTensor(a + [0])))\n",
        "\n",
        "  def __len__(self):\n",
        "    return len(self.data)\n",
        "\n",
        "  def __getitem__(self, idx):\n",
        "    return self.data[idx]"
      ],
      "metadata": {
        "id": "1pn1IX8Gc0Tl"
      },
      "execution_count": null,
      "outputs": []
    },
    {
      "cell_type": "code",
      "source": [
        "n_v, n_t = 100, 10\n",
        "\n",
        "# shuffle\n",
        "temp = list(zip(questions, answers))\n",
        "random.shuffle(temp)\n",
        "questions, answers = zip(*temp)\n",
        "\n",
        "dataset = QADataset(tokenizer, questions[:(-n_v-n_t)], answers[:(-n_v-n_t)])\n",
        "valid_dataset = QADataset(tokenizer, questions[(-n_v-n_t):(-n_t)], answers[(-n_v-n_t):(-n_t)])\n",
        "test_dataset = QADataset(tokenizer, questions[(-n_t):], answers[(-n_t):])\n",
        "\n",
        "dataloader = DataLoader(dataset, batch_size=batch_size, shuffle=True)\n",
        "valid_dataloader = DataLoader(valid_dataset, batch_size=n_v, shuffle=False)\n",
        "\n",
        "print(len(dataset))\n",
        "\n",
        "ei, di, do = dataset[0]\n",
        "print(ei)\n",
        "print(di)\n",
        "print(do)"
      ],
      "metadata": {
        "colab": {
          "base_uri": "https://localhost:8080/"
        },
        "id": "OoOnvHroEBsR",
        "outputId": "12e4acb7-8f3f-4aa9-85d9-edd9c0e613ae"
      },
      "execution_count": null,
      "outputs": [
        {
          "output_type": "stream",
          "name": "stdout",
          "text": [
            "11713\n",
            "tensor([8178, 1586, 8179,    0,    0,    0,    0,    0,    0,    0,    0,    0,\n",
            "           0,    0,    0,    0,    0,    0,    0,    0,    0,    0,    0,    0,\n",
            "           0,    0,    0,    0,    0,    0,    0,    0,    0,    0,    0,    0,\n",
            "           0,    0,    0,    0])\n",
            "tensor([8178, 3477,   92,    1, 8179,    0,    0,    0,    0,    0,    0,    0,\n",
            "           0,    0,    0,    0,    0,    0,    0,    0,    0,    0,    0,    0,\n",
            "           0,    0,    0,    0,    0,    0,    0,    0,    0,    0,    0,    0,\n",
            "           0,    0,    0])\n",
            "tensor([3477,   92,    1, 8179,    0,    0,    0,    0,    0,    0,    0,    0,\n",
            "           0,    0,    0,    0,    0,    0,    0,    0,    0,    0,    0,    0,\n",
            "           0,    0,    0,    0,    0,    0,    0,    0,    0,    0,    0,    0,\n",
            "           0,    0,    0])\n"
          ]
        }
      ]
    },
    {
      "cell_type": "markdown",
      "source": [
        "## Model"
      ],
      "metadata": {
        "id": "D-IMf0H0Xbii"
      }
    },
    {
      "cell_type": "markdown",
      "source": [
        "### Weight and Bias Initailization"
      ],
      "metadata": {
        "id": "NFHaZ8rv6VNy"
      }
    },
    {
      "cell_type": "code",
      "source": [
        "def init_weight(layer):\n",
        "    nn.init.xavier_uniform_(layer.weight)\n",
        "    if layer.bias is not None:\n",
        "        nn.init.constant_(layer.bias, 0)"
      ],
      "metadata": {
        "id": "dicVONZQ6bU3"
      },
      "execution_count": null,
      "outputs": []
    },
    {
      "cell_type": "markdown",
      "source": [
        "### Positional Encoding"
      ],
      "metadata": {
        "id": "jMHoBlsc8nmP"
      }
    },
    {
      "cell_type": "code",
      "execution_count": null,
      "metadata": {
        "id": "co-WmtXI8Te7"
      },
      "outputs": [],
      "source": [
        "class PositionalEncoding(nn.Module):\n",
        "  def __init__(self, max_len, d_model):\n",
        "    super(PositionalEncoding, self).__init__()\n",
        "    self.d_model = d_model\n",
        "    self.angles = torch.Tensor([(2*(i//2)) / self.d_model for i in range(self.d_model)])\n",
        "    self.angles = 1 / torch.pow(10000, self.angles)\n",
        "\n",
        "    self.enc = torch.zeros(max_len+1, d_model).cuda()\n",
        "    self.enc.requires_grad = False\n",
        "\n",
        "    for pos in range(max_len+1):\n",
        "      p = pos * self.angles\n",
        "      self.enc[pos, 0::2] = torch.sin(p[0::2])\n",
        "      self.enc[pos, 1::2] = torch.cos(p[1::2])\n",
        "\n",
        "  def forward(self, x):\n",
        "    batch, len = x.size()\n",
        "    pos_embed = self.enc[1:(len+1), :].clone().detach()     # (len, d_model)\n",
        "    pos_embed = pos_embed.unsqueeze(0).repeat(batch, 1, 1)  # (batch, len, d_model)\n",
        "    \n",
        "    pos_mask = (x != 0).unsqueeze(2).repeat(1, 1, self.d_model).cuda()\n",
        "    pos_embed = pos_embed.masked_fill(pos_mask == 0, 0)\n",
        "\n",
        "    return pos_embed"
      ]
    },
    {
      "cell_type": "code",
      "source": [
        "pe = PositionalEncoding(50, 128)\n",
        "x = torch.ones([1, 50]).cuda()\n",
        "y = pe(x).squeeze(0)\n",
        "\n",
        "plt.pcolormesh(y.cpu().numpy(), cmap='RdBu')\n",
        "plt.xlabel('Depth')\n",
        "plt.xlim((0, 128))\n",
        "plt.ylabel('Position')\n",
        "plt.colorbar()\n",
        "plt.show()"
      ],
      "metadata": {
        "colab": {
          "base_uri": "https://localhost:8080/",
          "height": 283
        },
        "id": "CkY0Q9G3MKcI",
        "outputId": "cb98e77b-38a6-4a40-bb13-f5fb70db07e1"
      },
      "execution_count": null,
      "outputs": [
        {
          "output_type": "display_data",
          "data": {
            "image/png": "[encoded data removed]",
            "text/plain": [
              "<Figure size 432x288 with 2 Axes>"
            ]
          },
          "metadata": {
            "needs_background": "light"
          }
        }
      ]
    },
    {
      "cell_type": "markdown",
      "source": [
        "### Multi Head Attention"
      ],
      "metadata": {
        "id": "xUFE2fjyx98x"
      }
    },
    {
      "cell_type": "code",
      "source": [
        "class MultiHeadAttention(nn.Module):\n",
        "  def __init__(self, d_model, num_heads, dropout):\n",
        "    super(MultiHeadAttention, self).__init__()\n",
        "    self.d_model = d_model\n",
        "    self.num_heads = num_heads\n",
        "    self.depth = d_model // num_heads\n",
        "\n",
        "    self.WQ = nn.Linear(d_model, d_model, bias=False)\n",
        "    self.WK = nn.Linear(d_model, d_model, bias=False)\n",
        "    self.WV = nn.Linear(d_model, d_model, bias=False)\n",
        "    self.WO = nn.Linear(d_model, d_model, bias=False)\n",
        "    self.softmax = nn.Softmax(dim=-1)\n",
        "    self.dropout = nn.Dropout(dropout)\n",
        "\n",
        "    init_weight(self.WQ)\n",
        "    init_weight(self.WK)\n",
        "    init_weight(self.WV)\n",
        "    init_weight(self.WO)\n",
        "\n",
        "\n",
        "  def scaled_dot_product_attention(self, query, key, value, mask=None):\n",
        "    # query, key, value: (batch, num_heads, len, depth)\n",
        "    QK = torch.matmul(query, key.transpose(2, 3)) / (self.depth ** 0.5)\n",
        "    # QK: (batch, num_heads, query_len, key_len)\n",
        "\n",
        "    if mask is not None:\n",
        "      QK = QK.masked_fill(mask == 0, -np.inf)\n",
        "    \n",
        "    attention = self.softmax(QK)\n",
        "    output = torch.matmul(attention, value)\n",
        "    # output: (batch, num_heads, query_len, depth)\n",
        "\n",
        "    return output, attention\n",
        "\n",
        "\n",
        "  def split_heads(self, x, batch):\n",
        "    x = x.view(batch, -1, self.num_heads, self.depth).transpose(1,2)\n",
        "    return x\n",
        "\n",
        "\n",
        "  def forward(self, query, key, value, mask):\n",
        "    batch = query.size(0)\n",
        "    # (batch, len, d_model)\n",
        "    query = self.WQ(query)\n",
        "    key = self.WK(key)\n",
        "    value = self.WV(value)\n",
        "    # (batch, len, d_model)\n",
        "    query = self.split_heads(query, batch)\n",
        "    key = self.split_heads(key, batch)\n",
        "    value = self.split_heads(value, batch)\n",
        "    # (batch, num_heads, len, depth)\n",
        "\n",
        "    attention, score = self.scaled_dot_product_attention(query, key, value, mask)\n",
        "    # attention: (batch, num_heads, query_len, depth)\n",
        "    # score:     (batch, num_heads, query_len, key_len)\n",
        "    \n",
        "    attention = attention.transpose(1,2).contiguous()\n",
        "    # (batch, query_len, num_heads, depth)\n",
        "    concat = attention.view(batch, -1, self.d_model)\n",
        "    # (batch, query_len, d_model)\n",
        "    output = self.dropout(self.WO(concat))\n",
        "    # (batch, query_len, d_model)\n",
        "    return output, score"
      ],
      "metadata": {
        "id": "Grer15h9yBTc"
      },
      "execution_count": null,
      "outputs": []
    },
    {
      "cell_type": "markdown",
      "source": [
        "### Position-wise Feed Forward"
      ],
      "metadata": {
        "id": "E1pFUJNj5krh"
      }
    },
    {
      "cell_type": "code",
      "source": [
        "class PositionWiseFeedForward(nn.Module):\n",
        "  def __init__(self, d_model, d_ff):\n",
        "    super(PositionWiseFeedForward, self).__init__()\n",
        "    self.conv1 = nn.Conv1d(d_model, d_ff, kernel_size=1)\n",
        "    self.conv2 = nn.Conv1d(d_ff, d_model, kernel_size=1)\n",
        "    self.relu = nn.ReLU()\n",
        "    self.dropout = nn.Dropout(dropout)\n",
        "\n",
        "    init_weight(self.conv1)\n",
        "    init_weight(self.conv2)\n",
        "\n",
        "  def forward(self, x):\n",
        "    # (batch, len, d_model)\n",
        "    x = x.permute(0, 2, 1)\n",
        "    # (batch, d_model, len)\n",
        "    x = self.dropout(self.relu(self.conv1(x)))\n",
        "    # (batch, d_ff, len)\n",
        "    x = self.conv2(x)\n",
        "    # (batch, d_model, len)\n",
        "    x = self.dropout(x.permute(0, 2, 1))\n",
        "    # (batch, len, d_model)\n",
        "    return x"
      ],
      "metadata": {
        "id": "fcmfEtVu5ta5"
      },
      "execution_count": null,
      "outputs": []
    },
    {
      "cell_type": "markdown",
      "source": [
        "### Encoder"
      ],
      "metadata": {
        "id": "vEJ26063H7eS"
      }
    },
    {
      "cell_type": "code",
      "source": [
        "class EncoderLayer(nn.Module):\n",
        "  def __init__(self, d_model, num_heads, d_ff, dropout):\n",
        "    super(EncoderLayer, self).__init__()\n",
        "    self.ln1 = nn.LayerNorm(d_model, eps=1e-6)\n",
        "    self.attention = MultiHeadAttention(d_model, num_heads, dropout)\n",
        "    self.ln2 = nn.LayerNorm(d_model, eps=1e-6)\n",
        "    self.ffn = PositionWiseFeedForward(d_model, d_ff)\n",
        "\n",
        "  def forward(self, x, mask):\n",
        "    # Multi Head Attention\n",
        "    # query = key = value (= x)\n",
        "    norm_x = self.ln1(x)\n",
        "    x = x + self.attention(norm_x, norm_x, norm_x, mask)[0]\n",
        "    \n",
        "    # Position-wise Feed Forward Network\n",
        "    norm_x = self.ln2(x)\n",
        "    x = x + self.ffn(norm_x)\n",
        "\n",
        "    return x"
      ],
      "metadata": {
        "id": "V5w37RI2I2NC"
      },
      "execution_count": null,
      "outputs": []
    },
    {
      "cell_type": "code",
      "source": [
        "class Encoder(nn.Module):\n",
        "  def __init__(self, vocab_size, d_model, num_layers, num_heads, d_ff, dropout):\n",
        "    super(Encoder, self).__init__()\n",
        "    self.d_model = d_model\n",
        "    self.num_heads = num_heads\n",
        "\n",
        "    self.embed = nn.Embedding(num_embeddings = vocab_size,\n",
        "                               embedding_dim = d_model,\n",
        "                               padding_idx = 0)\n",
        "    nn.init.normal_(self.embed.weight, mean=0, std=(d_model**-0.5))\n",
        "    self.position = PositionalEncoding(vocab_size, d_model)\n",
        "    self.dropout = nn.Dropout(p=dropout)\n",
        "\n",
        "    self.blocks = nn.ModuleList([EncoderLayer(d_model, num_heads, d_ff, dropout) for _ in range(num_layers)])\n",
        "\n",
        "  \n",
        "  def forward(self, x, mask):\n",
        "    pos = self.position(x)\n",
        "    x = self.embed(x) * (self.d_model ** 0.5)\n",
        "    x = self.dropout(x + pos)\n",
        "\n",
        "    for block in self.blocks:\n",
        "      x = block(x, mask)\n",
        "\n",
        "    return x"
      ],
      "metadata": {
        "id": "SIxgy2a9OoYD"
      },
      "execution_count": null,
      "outputs": []
    },
    {
      "cell_type": "markdown",
      "source": [
        "### Decoder"
      ],
      "metadata": {
        "id": "IyRBFmtVI_tl"
      }
    },
    {
      "cell_type": "code",
      "source": [
        "class DecoderLayer(nn.Module):\n",
        "  def __init__(self, d_model, num_heads, d_ff, dropout):\n",
        "    super(DecoderLayer, self).__init__()\n",
        "    self.ln1 = nn.LayerNorm(d_model, eps=1e-6)\n",
        "    self.attention1 = MultiHeadAttention(d_model, num_heads, dropout)\n",
        "\n",
        "    self.ln2 = nn.LayerNorm(d_model, eps=1e-6)\n",
        "    self.attention2 = MultiHeadAttention(d_model, num_heads, dropout)\n",
        "\n",
        "    self.ffn = PositionWiseFeedForward(d_model, d_ff)\n",
        "    self.ln3 = nn.LayerNorm(d_model, eps=1e-6)\n",
        "\n",
        "\n",
        "  def forward(self, x, enc, look_ahead_mask, padding_mask):\n",
        "    # Masked Self Attention (query = key = value = norm_x))\n",
        "    norm_x = self.ln1(x)\n",
        "    x = x + self.attention1(norm_x, norm_x, norm_x, look_ahead_mask)[0]\n",
        "\n",
        "    # Decoder-Encoder Attention (query = norm_x, key = value = enc)\n",
        "    norm_x = self.ln2(x)\n",
        "    attn, attn_map = self.attention2(norm_x, enc, enc, padding_mask)\n",
        "    x = x + attn\n",
        "    \n",
        "    # Position-wise Feed Forward Network\n",
        "    norm_x = self.ln3(x)\n",
        "    x = x + self.ffn(norm_x)\n",
        "\n",
        "    return x, attn_map"
      ],
      "metadata": {
        "id": "XaWSdduxJB-e"
      },
      "execution_count": null,
      "outputs": []
    },
    {
      "cell_type": "code",
      "source": [
        "class Decoder(nn.Module):\n",
        "  def __init__(self, vocab_size, d_model, num_layers, num_heads, d_ff, dropout):\n",
        "    super(Decoder, self).__init__()\n",
        "    self.d_model = d_model\n",
        "    self.num_heads = num_heads\n",
        "\n",
        "    self.embed = nn.Embedding(num_embeddings = vocab_size,\n",
        "                               embedding_dim = d_model,\n",
        "                               padding_idx = 0)\n",
        "    nn.init.normal_(self.embed.weight, mean=0, std=(d_model**-0.5))\n",
        "    self.position = PositionalEncoding(vocab_size, d_model)\n",
        "    self.dropout = nn.Dropout(p=dropout)\n",
        "\n",
        "    self.blocks = nn.ModuleList([DecoderLayer(d_model, num_heads, d_ff, dropout) for _ in range(num_layers)])\n",
        "    self.ln = nn.LayerNorm(d_model, eps=1e-6)\n",
        "    #self.fc = nn.Linear(d_model, vocab_size)\n",
        "\n",
        "  def forward(self, x, enc_out, look_ahead_mask, padding_mask):\n",
        "    pos = self.position(x)\n",
        "    x = self.embed(x) * (self.d_model ** 0.5)\n",
        "    x = self.dropout(x + pos)\n",
        "\n",
        "    for block in self.blocks:\n",
        "      x, attn_map = block(x, enc_out, look_ahead_mask, padding_mask)\n",
        "\n",
        "    x = self.ln(x)\n",
        "    x = torch.matmul(x, self.embed.weight.transpose(0, 1))\n",
        "    #x = self.fc(x)\n",
        "\n",
        "    return x, attn_map"
      ],
      "metadata": {
        "id": "IHULHhnCNFfr"
      },
      "execution_count": 46,
      "outputs": []
    },
    {
      "cell_type": "markdown",
      "source": [
        "### Transformer"
      ],
      "metadata": {
        "id": "jVggg69lfSmB"
      }
    },
    {
      "cell_type": "code",
      "source": [
        "class Transformer(nn.Module):\n",
        "  def __init__(self, enc_vocab_size, dec_vocab_size, d_model, num_layers, num_heads, d_ff, dropout):\n",
        "    super(Transformer, self).__init__()\n",
        "    self.enc = Encoder(enc_vocab_size, d_model, num_layers, num_heads, d_ff, dropout)\n",
        "    self.dec = Decoder(dec_vocab_size, d_model, num_layers, num_heads, d_ff, dropout)\n",
        "\n",
        "  def forward(self, enc_input, dec_input, padding_mask, look_ahead_mask):\n",
        "    enc_output = self.enc(enc_input, padding_mask)\n",
        "    dec_output, attn_map = self.dec(dec_input, enc_output, look_ahead_mask, padding_mask)\n",
        "    return dec_output, attn_map"
      ],
      "metadata": {
        "id": "8AcjdtszfUbA"
      },
      "execution_count": 47,
      "outputs": []
    },
    {
      "cell_type": "markdown",
      "source": [
        "## Training"
      ],
      "metadata": {
        "id": "26ilr70CEswD"
      }
    },
    {
      "cell_type": "code",
      "source": [
        "transformer = Transformer(vocab_size, vocab_size, d_model, num_layers, num_heads, d_ff, dropout).cuda()"
      ],
      "metadata": {
        "id": "PHLka_deiTPv"
      },
      "execution_count": 48,
      "outputs": []
    },
    {
      "cell_type": "markdown",
      "source": [
        "### (Option) Load Model"
      ],
      "metadata": {
        "id": "mGuvz2hrmoE8"
      }
    },
    {
      "cell_type": "code",
      "source": [
        "model_name = 'Transformer_2layers'\n",
        "\n",
        "loss_path = F\"{model_saved_dir}/{model_name}_loss.txt\"\n",
        "model_path = F\"{model_saved_dir}/{model_name}.pt\"\n",
        "\n",
        "with open(loss_path, 'rb') as f:\n",
        "    losses, val_losses = pickle.load(f)\n",
        "\n",
        "transformer.load_state_dict(torch.load(model_path))"
      ],
      "metadata": {
        "id": "1mBvVpVYmqoa",
        "colab": {
          "base_uri": "https://localhost:8080/"
        },
        "outputId": "adc4bfa0-2f4b-447a-b6d3-25013e09624a"
      },
      "execution_count": 50,
      "outputs": [
        {
          "output_type": "execute_result",
          "data": {
            "text/plain": [
              "<All keys matched successfully>"
            ]
          },
          "metadata": {},
          "execution_count": 50
        }
      ]
    },
    {
      "cell_type": "markdown",
      "source": [
        "### Optimizer and Learning Rate"
      ],
      "metadata": {
        "id": "QjheUYuNExXq"
      }
    },
    {
      "cell_type": "code",
      "source": [
        "class ScheduledAdam():\n",
        "    def __init__(self, optimizer, d_model, warm_steps):\n",
        "        self.init_lr = np.power(d_model, -0.5)\n",
        "        self.optimizer = optimizer\n",
        "        self.current_steps = 0\n",
        "        self.warm_steps = warm_steps\n",
        "\n",
        "    def step(self):\n",
        "        self.current_steps += 1\n",
        "        lr = self.init_lr * self.get_scale()\n",
        "        \n",
        "        for p in self.optimizer.param_groups:\n",
        "            p['lr'] = lr\n",
        "\n",
        "        self.optimizer.step()\n",
        "        \n",
        "    def zero_grad(self):\n",
        "        self.optimizer.zero_grad()\n",
        "\n",
        "    def get_scale(self):\n",
        "        return np.min([\n",
        "            np.power(self.current_steps, -0.5),\n",
        "            self.current_steps * np.power(self.warm_steps, -1.5)\n",
        "        ])\n",
        "\n",
        "\n",
        "optimizer = ScheduledAdam(\n",
        "            torch.optim.Adam(transformer.parameters(), betas=(0.9, 0.98), eps=1e-9),\n",
        "            d_model=d_model,\n",
        "            warm_steps=warmup_step\n",
        "        )"
      ],
      "metadata": {
        "id": "5F6fZuREE3o4"
      },
      "execution_count": 51,
      "outputs": []
    },
    {
      "cell_type": "markdown",
      "source": [
        "### Loss Function"
      ],
      "metadata": {
        "id": "kexCAq09krcp"
      }
    },
    {
      "cell_type": "code",
      "source": [
        "criterion = nn.CrossEntropyLoss(ignore_index = 0)"
      ],
      "metadata": {
        "id": "4KADk5KtkugP"
      },
      "execution_count": null,
      "outputs": []
    },
    {
      "cell_type": "markdown",
      "source": [
        "### Training Model"
      ],
      "metadata": {
        "id": "X7WFqnDdXQFO"
      }
    },
    {
      "cell_type": "code",
      "source": [
        "model_name = 'Transformer_2layers_fc'\n",
        "\n",
        "loss_path = F\"{model_saved_dir}/{model_name}_loss.txt\"\n",
        "model_path = F\"{model_saved_dir}/{model_name}.pt\"\n",
        "\n",
        "start_epoch = 0\n",
        "\n",
        "if start_epoch == 0:\n",
        "  losses, val_losses = [], []\n",
        "\n",
        "\n",
        "def forward(enc_input, dec_input, dec_output):\n",
        "  # Padding Mask\n",
        "  padding_mask = (enc_input != 0).unsqueeze(1).unsqueeze(2).cuda()\n",
        "\n",
        "  # Look Ahead Mask\n",
        "  mask1 = (dec_input != 0).unsqueeze(1).unsqueeze(2).cuda()\n",
        "  mask2 = torch.tril(torch.ones((dec_input.size(1), dec_input.size(1)), device = device)).bool()\n",
        "  look_ahead_mask = mask1 & mask2\n",
        "\n",
        "  enc_input = enc_input.cuda()\n",
        "  dec_input = dec_input.cuda()\n",
        "  dec_output = dec_output.cuda()\n",
        "\n",
        "  out, _ = transformer(enc_input, dec_input, padding_mask, look_ahead_mask)\n",
        "\n",
        "  out = out.contiguous().view(-1, out.shape[-1])\n",
        "  dec_output = dec_output.contiguous().view(-1)\n",
        "  loss = criterion(out, dec_output)\n",
        "  \n",
        "  return loss\n",
        "\n",
        "\n",
        "for ep in range(start_epoch, epochs):\n",
        "  for batch_idx, (enc_input, dec_input, dec_output) in enumerate(dataloader, 0):\n",
        "    # Train\n",
        "    transformer.train()\n",
        "    optimizer.zero_grad()\n",
        "    loss = forward(enc_input, dec_input, dec_output)\n",
        "    loss.backward()\n",
        "    torch.nn.utils.clip_grad_norm_(transformer.parameters(), 1.0)\n",
        "    optimizer.step()\n",
        "\n",
        "    # Evaluate\n",
        "    transformer.eval()\n",
        "    with torch.no_grad():\n",
        "      enc_input, dec_input, dec_output = next(iter(valid_dataloader))\n",
        "      val_loss = forward(enc_input, dec_input, dec_output)\n",
        "\n",
        "    # Print losses and learning rate\n",
        "    if batch_idx % 50 == 49 or batch_idx == (len(dataloader)-1):\n",
        "      lr = optimizer.optimizer.param_groups[0]['lr']\n",
        "      print('[%2d/%2d][%3d/%3d]\\tLoss: %.4f/%.4f\\tLR: %.6f' \\\n",
        "            % (ep+1, epochs, batch_idx+1, len(dataloader), loss.item(), val_loss.item(), lr))\n",
        "    \n",
        "    losses.append(loss.item())\n",
        "    val_losses.append(val_loss.item())\n",
        "\n",
        "  torch.save(transformer.state_dict(), model_path)\n",
        "  with open(loss_path, 'wb') as f:\n",
        "      pickle.dump((losses, val_losses), f)\n",
        "  \n",
        "  print(\"Saved model completely!\")"
      ],
      "metadata": {
        "id": "Y0iA5qXAXKXb"
      },
      "execution_count": null,
      "outputs": []
    },
    {
      "cell_type": "markdown",
      "source": [
        "### Plot step vs. loss"
      ],
      "metadata": {
        "id": "PZ-r0JViP4Bq"
      }
    },
    {
      "cell_type": "code",
      "source": [
        "plt.plot(range(len(losses)), losses, range(len(val_losses)), val_losses)\n",
        "plt.legend(['Train', 'Validation'])\n",
        "plt.xlabel('Step')\n",
        "plt.ylabel('Loss')\n",
        "#plt.show()\n",
        "plt.savefig('loss-2layers.png')"
      ],
      "metadata": {
        "id": "X8KwEvFwv-9i",
        "colab": {
          "base_uri": "https://localhost:8080/",
          "height": 279
        },
        "outputId": "9120d922-400f-40f2-9a05-b27810d895a7"
      },
      "execution_count": 82,
      "outputs": [
        {
          "output_type": "display_data",
          "data": {
            "image/png": "[encoded data removed]",
            "text/plain": [
              "<Figure size 432x288 with 1 Axes>"
            ]
          },
          "metadata": {
            "needs_background": "light"
          }
        }
      ]
    },
    {
      "cell_type": "markdown",
      "source": [
        "## Predict sentences"
      ],
      "metadata": {
        "id": "Y7JshfXIQKg0"
      }
    },
    {
      "cell_type": "code",
      "source": [
        "def predict(s):\n",
        "  transformer.eval()\n",
        "  s = re.sub(r\"([?.!,])\", r\" \\1 \", s).strip()\n",
        "\n",
        "  s = START_TOKEN + tokenizer.encode(s) + END_TOKEN\n",
        "  s = torch.LongTensor(s).unsqueeze(0).cuda()\n",
        "\n",
        "  d_in = torch.LongTensor(START_TOKEN).unsqueeze(0).cuda()\n",
        "\n",
        "  # Padding Mask\n",
        "  padding_mask = (s != 0).unsqueeze(1).unsqueeze(2).cuda()\n",
        "\n",
        "  for i in range(maxlen-1):\n",
        "    # Look Ahead Mask\n",
        "    mask1 = (d_in != 0).unsqueeze(1).unsqueeze(2).cuda()\n",
        "    mask2 = torch.tril(torch.ones((d_in.size(1), d_in.size(1)), device = device)).bool()\n",
        "    look_ahead_mask = mask1 & mask2\n",
        "\n",
        "    out, attn_map = transformer(s, d_in, padding_mask, look_ahead_mask)\n",
        "    d_out = torch.argmax(out, dim=-1)\n",
        "    last = d_out[:, -1:]\n",
        "\n",
        "    if last[0][0] == END_TOKEN[0]:\n",
        "      break\n",
        "\n",
        "    d_in = torch.cat([d_in, last], dim=1)\n",
        "\n",
        "  output = d_in.squeeze(0)\n",
        "\n",
        "  s = tokenizer.decode([i for i in output if i < tokenizer.vocab_size])\n",
        "  for mark in '?.!,':\n",
        "    s = s.replace(' '+mark, mark)\n",
        "\n",
        "  return s, attn_map.squeeze(0)"
      ],
      "metadata": {
        "id": "o58Bmw9At4rW"
      },
      "execution_count": null,
      "outputs": []
    },
    {
      "cell_type": "markdown",
      "source": [
        "### sentences in the dataset"
      ],
      "metadata": {
        "id": "sUnGP4J1RFal"
      }
    },
    {
      "cell_type": "code",
      "source": [
        "for i in range(10):\n",
        "  q = questions[i]\n",
        "  print('Input: %s' % q)\n",
        "  print('Output: %s' % predict(q)[0])\n",
        "  a = answers[i]\n",
        "  for mark in '?.!,':\n",
        "    a = a.replace(' '+mark, mark)\n",
        "  print('Answer: %s\\n' % a)"
      ],
      "metadata": {
        "colab": {
          "base_uri": "https://localhost:8080/"
        },
        "id": "eFON2QoLRMmT",
        "outputId": "f897547c-d43e-44d7-9574-9316d9ec7e51"
      },
      "execution_count": 83,
      "outputs": [
        {
          "output_type": "stream",
          "name": "stdout",
          "text": [
            "Input: 고백\n",
            "Output: 성공하길 바랄게요.\n",
            "Answer: 성공하길 바랄게요.\n",
            "\n",
            "Input: 너무 편해도 안 좋아\n",
            "Output: 예의는 지켜주세요.\n",
            "Answer: 예의는 지켜주세요.\n",
            "\n",
            "Input: 사랑은 상처를\n",
            "Output: 남기고 가요.\n",
            "Answer: 남기고 가요.\n",
            "\n",
            "Input: 꿈에서 전남친 친구가나왓는데\n",
            "Output: 무슨 일이 있었나봐요.\n",
            "Answer: 무슨 일이 있었나봐요.\n",
            "\n",
            "Input: 나 윗집 남자애 좋아하는 것 같애 .\n",
            "Output: 가깝게 살아서 더 좋겠네요.\n",
            "Answer: 가깝게 살아서 더 좋겠네요.\n",
            "\n",
            "Input: 제 마음과 머리가 일치가 안되 .\n",
            "Output: 마음이랑 머리가 따로 놀기도 하죠.\n",
            "Answer: 마음이랑 머리가 따로 놀기도 하죠.\n",
            "\n",
            "Input: 심부름 다녀올게\n",
            "Output: 다녀오세요.  기다릴게요.\n",
            "Answer: 다녀오세요.  기다릴게요.\n",
            "\n",
            "Input: 사랑할수록 집착해\n",
            "Output: 상대방이 싫어할수도 있어요.\n",
            "Answer: 상대방이 싫어할수도 있어요.\n",
            "\n",
            "Input: 정신줄 어디 갔나\n",
            "Output: 정신 차리세요.\n",
            "Answer: 정신 차리세요.\n",
            "\n",
            "Input: 이젠 다시 만날 수도 없는 상황\n",
            "Output: 달라지는게 없다면 이런 상황이 더 나을지도 몰라요.\n",
            "Answer: 달라지는게 없다면 이런 상황이 더 나을지도 몰라요.\n",
            "\n"
          ]
        }
      ]
    },
    {
      "cell_type": "markdown",
      "source": [
        "### sentences not in the dataset"
      ],
      "metadata": {
        "id": "pBLHPasNQlST"
      }
    },
    {
      "cell_type": "code",
      "source": [
        "sentences = [\"영화 볼래?\", \"고민이 있어\", \"너무 화가나\", \"카페갈래?\", \"게임하고싶당\", \"게임하자!\"]\n",
        "\n",
        "for s in sentences:\n",
        "  print('Input: %s' % s)\n",
        "  print('Output: %s\\n' % predict(s)[0])"
      ],
      "metadata": {
        "colab": {
          "base_uri": "https://localhost:8080/"
        },
        "id": "vs7Va_ltCGR-",
        "outputId": "f250bdc2-6598-454b-a7a2-ba252f742f00"
      },
      "execution_count": 85,
      "outputs": [
        {
          "output_type": "stream",
          "name": "stdout",
          "text": [
            "Input: 영화 볼래?\n",
            "Output: 최신 영화가 좋을 것 같아요.\n",
            "\n",
            "Input: 고민이 있어\n",
            "Output: 생각을 할 수 있어요.\n",
            "\n",
            "Input: 너무 화가나\n",
            "Output: 제가 풀어드릴게요.\n",
            "\n",
            "Input: 카페갈래?\n",
            "Output: 카페 데이트 좋죠.\n",
            "\n",
            "Input: 게임하고싶당\n",
            "Output: 생각보다 빠르게 시군요.\n",
            "\n",
            "Input: 게임하자!\n",
            "Output: 게임하세요!\n",
            "\n"
          ]
        }
      ]
    },
    {
      "cell_type": "code",
      "source": [
        "sentences = [\"같이 1박2일 여행 갈까?\",\n",
        "             \"내일 우리 같이 영화나 볼까?\",\n",
        "             \"오늘 점심은 뭘 먹어야 할지 모르겠네\",\n",
        "             \"하루종일 머리가 아프네\",\n",
        "             \"내일 시험인데 하나도 공부를 못 했어\"]\n",
        "\n",
        "for s in sentences:\n",
        "  print('Input: %s' % s)\n",
        "  print('Output: %s\\n' % predict(s)[0])"
      ],
      "metadata": {
        "id": "d5kBDnEwxK77",
        "colab": {
          "base_uri": "https://localhost:8080/"
        },
        "outputId": "ead2fc3b-2555-4ca0-e393-20f42f4e47bc"
      },
      "execution_count": 84,
      "outputs": [
        {
          "output_type": "stream",
          "name": "stdout",
          "text": [
            "Input: 같이 1박2일 여행 갈까?\n",
            "Output: 같이 양이 있어서 그런가봐요.\n",
            "\n",
            "Input: 내일 우리 같이 영화나 볼까?\n",
            "Output: 원하던게 아니었을지도 몰라요.\n",
            "\n",
            "Input: 오늘 점심은 뭘 먹어야 할지 모르겠네\n",
            "Output: 해보는 것도 좋을 거 같아요.\n",
            "\n",
            "Input: 하루종일 머리가 아프네\n",
            "Output: 병원에 가보세요.\n",
            "\n",
            "Input: 내일 시험인데 하나도 공부를 못 했어\n",
            "Output: 컨디션 조절 하세요.\n",
            "\n"
          ]
        }
      ]
    },
    {
      "cell_type": "markdown",
      "source": [
        "## BLEU Score"
      ],
      "metadata": {
        "id": "dgMpSzSoDSn5"
      }
    },
    {
      "cell_type": "code",
      "source": [
        "from collections import Counter\n",
        "\n",
        "def bleu(pred, real):\n",
        "  pred = [int(i) for i in pred if i < tokenizer.vocab_size and i > 0]\n",
        "  real = [int(i) for i in real if i < tokenizer.vocab_size and i > 0]\n",
        "\n",
        "  n_tot = min(len(pred), 4)\n",
        "  if n_tot == 0: return 0\n",
        "\n",
        "  score = 1.\n",
        "  for n in range(1, n_tot+1):\n",
        "    pCounter = Counter([tuple(pred[i:(i+n)]) for i in range(len(pred)-n+1)])\n",
        "    rCounter = Counter([tuple(real[i:(i+n)]) for i in range(len(real)-n+1)])\n",
        "\n",
        "    cnt = 0\n",
        "    for word in pCounter:\n",
        "      if word in rCounter:\n",
        "        cnt += min(pCounter[word], rCounter[word])\n",
        "\n",
        "    score *= cnt / max(len(pred)-n+1, 1)\n",
        "  \n",
        "  return (score ** (1/n_tot)) * min(1., len(pred)/len(real))"
      ],
      "metadata": {
        "id": "WP_J1qRYZUbQ"
      },
      "execution_count": 74,
      "outputs": []
    },
    {
      "cell_type": "code",
      "source": [
        "transformer.eval()\n",
        "with torch.no_grad():\n",
        "  enc_input, dec_input, dec_output = next(iter(dataloader))\n",
        "\n",
        "  # Padding Mask\n",
        "  padding_mask = (enc_input != 0).unsqueeze(1).unsqueeze(2).cuda()\n",
        "\n",
        "  # Look Ahead Mask\n",
        "  mask1 = (dec_input != 0).unsqueeze(1).unsqueeze(2).cuda()\n",
        "  mask2 = torch.tril(torch.ones((dec_input.size(1), dec_input.size(1)), device = device)).bool()\n",
        "  look_ahead_mask = mask1 & mask2\n",
        "\n",
        "  enc_input = enc_input.cuda()\n",
        "  dec_input = dec_input.cuda()\n",
        "  dec_output = dec_output.cuda()\n",
        "\n",
        "  out, _ = transformer(enc_input, dec_input, padding_mask, look_ahead_mask)\n",
        "  pred = torch.argmax(out, dim=-1)\n",
        "  \n",
        "  scores = sum([bleu(p,r) for p, r in zip(pred, dec_output)]) / pred.size(0)\n",
        "  print('BLEU Score for training data: %.4f' % (100*scores))"
      ],
      "metadata": {
        "colab": {
          "base_uri": "https://localhost:8080/"
        },
        "id": "91x3PjcqDWha",
        "outputId": "1a433b23-52a8-49bc-82eb-c88f47149f39"
      },
      "execution_count": 80,
      "outputs": [
        {
          "output_type": "stream",
          "name": "stdout",
          "text": [
            "BLEU Score for training data: 88.4512\n"
          ]
        }
      ]
    },
    {
      "cell_type": "markdown",
      "source": [
        "## Attention Map"
      ],
      "metadata": {
        "id": "7TVmVzF0loph"
      }
    },
    {
      "cell_type": "code",
      "source": [
        "import seaborn as sns\n",
        "import matplotlib.font_manager as fm\n",
        "\n",
        "q = \"SNS 시간낭비인데 자꾸 보게됨\"\n",
        "a, attn_map = predict(q)\n",
        "print(a)\n",
        "attn_map = attn_map.cpu().detach().numpy()\n",
        "attn_map = np.flip(attn_map, axis=1)\n",
        "q_str = ['<SOS>'] + [tokenizer.decode([t]) for t in tokenizer.encode(q)] + ['<EOS>']\n",
        "a_str = list(reversed(['<SOS>']+[tokenizer.decode([t]) for t in tokenizer.encode(a)]))\n",
        "\n",
        "font_location = \"/content/drive/MyDrive/Colab Notebooks/Transformer/DreamGothic.otf\"\n",
        "fp = fm.FontProperties(fname=font_location)\n",
        "f, axes = plt.subplots(4, 2, figsize=(13, 21))\n",
        "\n",
        "for k in range(8):\n",
        "  row, col = k // 2, k % 2\n",
        "  g = sns.heatmap(attn_map[k],\n",
        "                  vmin = 0.0,\n",
        "                  vmax = 1.0,\n",
        "                  cmap = 'YlGnBu',\n",
        "                  cbar = False,\n",
        "                  ax = axes[row, col],\n",
        "                  square = True)\n",
        "  axes[row,col].set_title('Head #{}'.format(k+1), fontsize=15)\n",
        "  axes[row,col].set_xticklabels(q_str, fontproperties = fp)\n",
        "  axes[row,col].set_yticklabels(a_str, fontproperties = fp)\n",
        "\n",
        "#plt.show()\n",
        "plt.savefig('attention-map.png')"
      ],
      "metadata": {
        "id": "HuSKWalXln0m",
        "colab": {
          "base_uri": "https://localhost:8080/",
          "height": 1000
        },
        "outputId": "0080b9b1-94b4-46ea-b3df-c2a8e7bbf654"
      },
      "execution_count": 86,
      "outputs": [
        {
          "output_type": "stream",
          "name": "stdout",
          "text": [
            "시간을 정하고 해보세요.\n"
          ]
        },
        {
          "output_type": "display_data",
          "data": {
            "image/png": "[encoded data removed]",
            "text/plain": [
              "<Figure size 936x1512 with 8 Axes>"
            ]
          },
          "metadata": {
            "needs_background": "light"
          }
        }
      ]
    }
  ]
}